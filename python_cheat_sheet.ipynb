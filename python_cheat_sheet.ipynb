{
 "cells": [
  {
   "cell_type": "code",
   "execution_count": 1,
   "id": "422b58c4",
   "metadata": {},
   "outputs": [],
   "source": [
    "import numpy as np\n",
    "import pandas as pd"
   ]
  },
  {
   "cell_type": "markdown",
   "id": "6f10a896",
   "metadata": {},
   "source": [
    "---"
   ]
  },
  {
   "cell_type": "markdown",
   "id": "64271245",
   "metadata": {},
   "source": [
    "# Базовый Numpy"
   ]
  },
  {
   "cell_type": "markdown",
   "id": "b13e4b69",
   "metadata": {},
   "source": [
    "### Базовые операции"
   ]
  },
  {
   "cell_type": "code",
   "execution_count": 2,
   "id": "84ab3c18",
   "metadata": {},
   "outputs": [],
   "source": [
    "# В нампай и пандас работа ведется с векторами\n",
    "\n",
    "x = np.array([1, 2, 3, 4, 5])\n",
    "y = np.array([-2, 0, 10, 100, 4])"
   ]
  },
  {
   "cell_type": "code",
   "execution_count": 3,
   "id": "218ea391",
   "metadata": {},
   "outputs": [
    {
     "data": {
      "text/plain": [
       "array([ -1,   2,  13, 104,   9])"
      ]
     },
     "execution_count": 3,
     "metadata": {},
     "output_type": "execute_result"
    }
   ],
   "source": [
    "# Все операции поэлементные\n",
    "\n",
    "\n",
    "x + y"
   ]
  },
  {
   "cell_type": "code",
   "execution_count": 4,
   "id": "13e4c134",
   "metadata": {},
   "outputs": [
    {
     "data": {
      "text/plain": [
       "array([ -2,   0,  30, 400,  20])"
      ]
     },
     "execution_count": 4,
     "metadata": {},
     "output_type": "execute_result"
    }
   ],
   "source": [
    "x * y"
   ]
  },
  {
   "cell_type": "code",
   "execution_count": 6,
   "id": "61549961",
   "metadata": {},
   "outputs": [
    {
     "data": {
      "text/plain": [
       "array([  3,   2,  -7, -96,   1])"
      ]
     },
     "execution_count": 6,
     "metadata": {},
     "output_type": "execute_result"
    }
   ],
   "source": [
    "x - y"
   ]
  },
  {
   "cell_type": "code",
   "execution_count": 7,
   "id": "ac0c11ff",
   "metadata": {},
   "outputs": [
    {
     "data": {
      "text/plain": [
       "array([-2, -1,  0,  1,  2])"
      ]
     },
     "execution_count": 7,
     "metadata": {},
     "output_type": "execute_result"
    }
   ],
   "source": [
    "x - 3"
   ]
  },
  {
   "cell_type": "code",
   "execution_count": 9,
   "id": "d0cd2ba2",
   "metadata": {},
   "outputs": [
    {
     "data": {
      "text/plain": [
       "array([-2, -1,  0,  1,  2])"
      ]
     },
     "execution_count": 9,
     "metadata": {},
     "output_type": "execute_result"
    }
   ],
   "source": [
    "# Эквивалентно предыдущей записи\n",
    "# На самом деле, нампай, когда вы делаете операции\n",
    "# Numpy.Array и какая-то константа - numpy неявно приводит эту константу к массиву такой же размерности\n",
    "# Состоящим из этой константы:\n",
    "\n",
    "x - np.array([3] * x.size)"
   ]
  },
  {
   "cell_type": "markdown",
   "id": "8c15ec12",
   "metadata": {},
   "source": [
    "---"
   ]
  },
  {
   "cell_type": "markdown",
   "id": "dd3f4934",
   "metadata": {},
   "source": [
    "### Прикольные операции с матрицами:"
   ]
  },
  {
   "cell_type": "code",
   "execution_count": 10,
   "id": "55d902c8",
   "metadata": {},
   "outputs": [],
   "source": [
    "A = np.array([\n",
    "    [1, 2, 3, 4, 5],\n",
    "    [5, 6, 7, 8, 9],\n",
    "    [10, 11, 12, 13, 14],\n",
    "])"
   ]
  },
  {
   "cell_type": "code",
   "execution_count": 11,
   "id": "9ad72eeb",
   "metadata": {},
   "outputs": [
    {
     "data": {
      "text/plain": [
       "array([[ 1,  2,  3,  4,  5],\n",
       "       [ 5,  6,  7,  8,  9],\n",
       "       [10, 11, 12, 13, 14]])"
      ]
     },
     "execution_count": 11,
     "metadata": {},
     "output_type": "execute_result"
    }
   ],
   "source": [
    "A"
   ]
  },
  {
   "cell_type": "code",
   "execution_count": 19,
   "id": "268c4f0e",
   "metadata": {},
   "outputs": [
    {
     "data": {
      "text/plain": [
       "(3, 5)"
      ]
     },
     "execution_count": 19,
     "metadata": {},
     "output_type": "execute_result"
    }
   ],
   "source": [
    "A.shape # Размерность"
   ]
  },
  {
   "cell_type": "code",
   "execution_count": 13,
   "id": "9ddac3dd",
   "metadata": {},
   "outputs": [
    {
     "data": {
      "text/plain": [
       "array([ 1,  2,  3,  4,  5,  5,  6,  7,  8,  9, 10, 11, 12, 13, 14])"
      ]
     },
     "execution_count": 13,
     "metadata": {},
     "output_type": "execute_result"
    }
   ],
   "source": [
    "A.flatten() # равзернули матрицу в вектор"
   ]
  },
  {
   "cell_type": "code",
   "execution_count": 15,
   "id": "93404cf7",
   "metadata": {},
   "outputs": [
    {
     "data": {
      "text/plain": [
       "array([[ 2,  4,  6,  8, 10],\n",
       "       [10, 12, 14, 16, 18],\n",
       "       [20, 22, 24, 26, 28]])"
      ]
     },
     "execution_count": 15,
     "metadata": {},
     "output_type": "execute_result"
    }
   ],
   "source": [
    "# Матрицы тоже Numpy.Array и тоже поддерживают поэлементные векторные операции\n",
    "\n",
    "A + A"
   ]
  },
  {
   "cell_type": "code",
   "execution_count": 17,
   "id": "66be7a4b",
   "metadata": {},
   "outputs": [
    {
     "data": {
      "text/plain": [
       "array([[ 5, 10, 15, 20, 25],\n",
       "       [25, 30, 35, 40, 45],\n",
       "       [50, 55, 60, 65, 70]])"
      ]
     },
     "execution_count": 17,
     "metadata": {},
     "output_type": "execute_result"
    }
   ],
   "source": [
    "A * 5"
   ]
  },
  {
   "cell_type": "markdown",
   "id": "2163c817",
   "metadata": {},
   "source": [
    "---"
   ]
  },
  {
   "cell_type": "code",
   "execution_count": 21,
   "id": "07c09c3e",
   "metadata": {},
   "outputs": [
    {
     "data": {
      "text/plain": [
       "array([ 1,  6, 12])"
      ]
     },
     "execution_count": 21,
     "metadata": {},
     "output_type": "execute_result"
    }
   ],
   "source": [
    "A.diagonal(0) # Можно извлекать диагональ из матрицы"
   ]
  },
  {
   "cell_type": "code",
   "execution_count": 22,
   "id": "4a9f0c60",
   "metadata": {},
   "outputs": [
    {
     "data": {
      "text/plain": [
       "array([[ 1,  2,  3,  4,  5],\n",
       "       [ 5,  6,  7,  8,  9],\n",
       "       [10, 11, 12, 13, 14],\n",
       "       [11, 12, 13, 14, 15],\n",
       "       [15, 16, 17, 18, 19],\n",
       "       [20, 21, 22, 23, 24]])"
      ]
     },
     "execution_count": 22,
     "metadata": {},
     "output_type": "execute_result"
    }
   ],
   "source": [
    "# Можно матрицы склеивать по вертикали\n",
    "\n",
    "np.vstack((\n",
    "    A,\n",
    "    A + 10\n",
    "))"
   ]
  },
  {
   "cell_type": "code",
   "execution_count": 23,
   "id": "d792fe05",
   "metadata": {},
   "outputs": [
    {
     "data": {
      "text/plain": [
       "array([[ 1,  2,  3,  4,  5, 11, 12, 13, 14, 15],\n",
       "       [ 5,  6,  7,  8,  9, 15, 16, 17, 18, 19],\n",
       "       [10, 11, 12, 13, 14, 20, 21, 22, 23, 24]])"
      ]
     },
     "execution_count": 23,
     "metadata": {},
     "output_type": "execute_result"
    }
   ],
   "source": [
    "# Можно матрицы склеивать по горизонтали\n",
    "\n",
    "np.hstack((\n",
    "    A,\n",
    "    A + 10\n",
    "))"
   ]
  },
  {
   "cell_type": "markdown",
   "id": "0a06c450",
   "metadata": {},
   "source": [
    "---"
   ]
  },
  {
   "cell_type": "code",
   "execution_count": 29,
   "id": "df7bd041",
   "metadata": {},
   "outputs": [
    {
     "data": {
      "text/plain": [
       "array([[5.43e-323, 5.93e-323, 6.42e-323, 6.92e-323, 7.41e-323],\n",
       "       [7.41e-323, 7.91e-323, 8.40e-323, 8.89e-323, 9.39e-323],\n",
       "       [9.88e-323, 1.04e-322, 1.09e-322, 1.14e-322, 1.19e-322]])"
      ]
     },
     "execution_count": 29,
     "metadata": {},
     "output_type": "execute_result"
    }
   ],
   "source": [
    "# Создать матрицу определенной размерности из около-нулевых элементов\n",
    "\n",
    "\n",
    "tmp = np.empty(A.shape)\n",
    "tmp"
   ]
  },
  {
   "cell_type": "code",
   "execution_count": 30,
   "id": "1f456436",
   "metadata": {},
   "outputs": [],
   "source": [
    "# Заполнить всю матрицу каким-то значением\n",
    "\n",
    "tmp.fill(5)"
   ]
  },
  {
   "cell_type": "code",
   "execution_count": 31,
   "id": "235530e2",
   "metadata": {},
   "outputs": [
    {
     "data": {
      "text/plain": [
       "array([[5., 5., 5., 5., 5.],\n",
       "       [5., 5., 5., 5., 5.],\n",
       "       [5., 5., 5., 5., 5.]])"
      ]
     },
     "execution_count": 31,
     "metadata": {},
     "output_type": "execute_result"
    }
   ],
   "source": [
    "tmp"
   ]
  },
  {
   "cell_type": "markdown",
   "id": "67808870",
   "metadata": {},
   "source": [
    "### Broadcasting Numpy"
   ]
  },
  {
   "cell_type": "code",
   "execution_count": 24,
   "id": "44d0fec0",
   "metadata": {},
   "outputs": [
    {
     "data": {
      "text/plain": [
       "array([[ 1,  2,  3,  4,  5],\n",
       "       [ 5,  6,  7,  8,  9],\n",
       "       [10, 11, 12, 13, 14]])"
      ]
     },
     "execution_count": 24,
     "metadata": {},
     "output_type": "execute_result"
    }
   ],
   "source": [
    "A"
   ]
  },
  {
   "cell_type": "code",
   "execution_count": 26,
   "id": "5615132a",
   "metadata": {},
   "outputs": [
    {
     "data": {
      "text/plain": [
       "array([[5.43e-323, 5.93e-323, 6.42e-323, 6.92e-323, 7.41e-323],\n",
       "       [7.41e-323, 7.91e-323, 8.40e-323, 8.89e-323, 9.39e-323],\n",
       "       [9.88e-323, 1.04e-322, 1.09e-322, 1.14e-322, 1.19e-322]])"
      ]
     },
     "execution_count": 26,
     "metadata": {},
     "output_type": "execute_result"
    }
   ],
   "source": []
  },
  {
   "cell_type": "code",
   "execution_count": 42,
   "id": "d19eaba3",
   "metadata": {},
   "outputs": [
    {
     "name": "stdout",
     "output_type": "stream",
     "text": [
      "[[ 4.  5.  6.  7.  8.]\n",
      " [ 8.  9. 10. 11. 12.]\n",
      " [13. 14. 15. 16. 17.]]\n",
      "---\n",
      "[[ 4.  5.  6.  7.  8.]\n",
      " [ 8.  9. 10. 11. 12.]\n",
      " [13. 14. 15. 16. 17.]]\n",
      "---\n"
     ]
    }
   ],
   "source": [
    "# Две эквивалентные операции:\n",
    "\n",
    "\n",
    "print(\n",
    "    A + 3.0, # Вот тут неявно происходит тоже, что и ниже\n",
    "    end='\\n---\\n'\n",
    ")\n",
    "\n",
    "# ------\n",
    "tmp = np.empty(A.shape)\n",
    "tmp.fill(3.0)\n",
    "print(\n",
    "    A + tmp,\n",
    "    end='\\n---\\n'    \n",
    ")"
   ]
  },
  {
   "cell_type": "code",
   "execution_count": 38,
   "id": "2c5a4316",
   "metadata": {},
   "outputs": [
    {
     "data": {
      "text/plain": [
       "array([[ 1,  2,  3,  4,  5],\n",
       "       [ 5,  6,  7,  8,  9],\n",
       "       [10, 11, 12, 13, 14]])"
      ]
     },
     "execution_count": 38,
     "metadata": {},
     "output_type": "execute_result"
    }
   ],
   "source": [
    "A"
   ]
  },
  {
   "cell_type": "code",
   "execution_count": 48,
   "id": "a8004ddf",
   "metadata": {},
   "outputs": [
    {
     "name": "stdout",
     "output_type": "stream",
     "text": [
      "[3 3 3 4 4 4 5 5 5 6 6 6 7 7 7]\n",
      "---\n",
      "[[3 3 3]\n",
      " [4 4 4]\n",
      " [5 5 5]\n",
      " [6 6 6]\n",
      " [7 7 7]]\n",
      "---\n",
      "[[3 4 5 6 7]\n",
      " [3 4 5 6 7]\n",
      " [3 4 5 6 7]]\n",
      "---\n"
     ]
    }
   ],
   "source": [
    "x = np.array([3, 4, 5, 6, 7])\n",
    "print(np.repeat(x, 3), end='\\n---\\n') # Продублировали каждый элемент исходного массива 3 раза\n",
    "print(np.repeat(x, 3).reshape(5, 3), end='\\n---\\n') # Развернули в матрицу, так чтобы каждая колонка - дубль массива\n",
    "print(np.repeat(x, 3).reshape(5, 3).T, end='\\n---\\n') # транспонировали полученную матрицу\n",
    "\n",
    "# По факту получили матрицу из трех одинаковых строк исходного массива (broadcast на размерность (3, 5))"
   ]
  },
  {
   "cell_type": "code",
   "execution_count": 51,
   "id": "f91a4f08",
   "metadata": {},
   "outputs": [
    {
     "name": "stdout",
     "output_type": "stream",
     "text": [
      "[[ 1  2  3  4  5]\n",
      " [ 5  6  7  8  9]\n",
      " [10 11 12 13 14]]\n",
      "---\n",
      "[[ 4  6  8 10 12]\n",
      " [ 8 10 12 14 16]\n",
      " [13 15 17 19 21]]\n",
      "---\n",
      "[[ 4  6  8 10 12]\n",
      " [ 8 10 12 14 16]\n",
      " [13 15 17 19 21]]\n"
     ]
    }
   ],
   "source": [
    "# Аналогично бродкастятся и вектора к нужной размерности матрицы:\n",
    "\n",
    "print(A, end='\\n---\\n')\n",
    "\n",
    "\n",
    "\n",
    "\n",
    "print(\n",
    "    A + x,\n",
    "    end='\\n---\\n'\n",
    ")\n",
    "\n",
    "print(\n",
    "    A + np.repeat(x, 3).reshape(5, 3).T # Сами забродкастили массив и получили то же самое\n",
    ")"
   ]
  },
  {
   "cell_type": "code",
   "execution_count": 52,
   "id": "79306233",
   "metadata": {},
   "outputs": [],
   "source": [
    "# Это все важно понимать, чтобы знать, что происходит когда вы делаете простые операции с добавлением\n",
    "# констант к векторам/матрицам\n",
    "# векторов к матрицам и тп\n",
    "\n",
    "\n",
    "# Самим бродкастить - НЕ НУЖНО"
   ]
  },
  {
   "cell_type": "markdown",
   "id": "a2f1bb26",
   "metadata": {},
   "source": [
    "---"
   ]
  },
  {
   "cell_type": "markdown",
   "id": "ac4b00e3",
   "metadata": {},
   "source": [
    "### Индексация (очень важно)"
   ]
  },
  {
   "cell_type": "code",
   "execution_count": 53,
   "id": "b3020584",
   "metadata": {},
   "outputs": [
    {
     "data": {
      "text/plain": [
       "array([[ 1,  2,  3,  4,  5],\n",
       "       [ 5,  6,  7,  8,  9],\n",
       "       [10, 11, 12, 13, 14]])"
      ]
     },
     "execution_count": 53,
     "metadata": {},
     "output_type": "execute_result"
    }
   ],
   "source": [
    "A"
   ]
  },
  {
   "cell_type": "code",
   "execution_count": 55,
   "id": "cf02ef5d",
   "metadata": {},
   "outputs": [
    {
     "name": "stdout",
     "output_type": "stream",
     "text": [
      "[1 2 3 4 5]\n",
      "---\n",
      "[ 1  5 10]\n",
      "---\n",
      "[[1 2 3 4 5]\n",
      " [5 6 7 8 9]]\n",
      "---\n",
      "[[ 1  2]\n",
      " [ 5  6]\n",
      " [10 11]]\n",
      "---\n",
      "[[1 2]\n",
      " [5 6]]\n",
      "---\n"
     ]
    }
   ],
   "source": [
    "print(A[0], end='\\n---\\n') # Нулевая строчка\n",
    "print(A[:, 0], end='\\n---\\n') # Нулевая колонка\n",
    "print(A[:2], end='\\n---\\n') # Первые две строчки\n",
    "print(A[:, :2], end='\\n---\\n') # Первые две колонки\n",
    "print(A[:2, :2], end='\\n---\\n') # Левый-верхний угол (2х2) из 4х элементов"
   ]
  },
  {
   "cell_type": "markdown",
   "id": "674d530c",
   "metadata": {},
   "source": [
    "---"
   ]
  },
  {
   "cell_type": "code",
   "execution_count": 56,
   "id": "3be9441e",
   "metadata": {},
   "outputs": [
    {
     "data": {
      "text/plain": [
       "array([3, 4, 5, 6, 7])"
      ]
     },
     "execution_count": 56,
     "metadata": {},
     "output_type": "execute_result"
    }
   ],
   "source": [
    "x"
   ]
  },
  {
   "cell_type": "code",
   "execution_count": 58,
   "id": "f4b9fb94",
   "metadata": {},
   "outputs": [
    {
     "data": {
      "text/plain": [
       "array([3, 6, 7])"
      ]
     },
     "execution_count": 58,
     "metadata": {},
     "output_type": "execute_result"
    }
   ],
   "source": [
    "# Можно в качестве индексов передать список индексов\n",
    "# Результат - в порядке переданных индексов соответствующие индексам исходные значения\n",
    "\n",
    "x[[0, 3, 4]] # Нулевой, Третий и Четвертый элементы x в порядке следования"
   ]
  },
  {
   "cell_type": "code",
   "execution_count": 59,
   "id": "bc3d765b",
   "metadata": {},
   "outputs": [
    {
     "data": {
      "text/plain": [
       "array([3, 3, 3, 3, 3, 4, 7, 7, 3, 4, 5])"
      ]
     },
     "execution_count": 59,
     "metadata": {},
     "output_type": "execute_result"
    }
   ],
   "source": [
    "# Список индексов можно давать любого размера, произвольного характера\n",
    "\n",
    "\n",
    "x[[0, 0, 0, 0, 0, 1, 4, 4, 0, 1, 2]]"
   ]
  },
  {
   "cell_type": "code",
   "execution_count": 61,
   "id": "0ecdd0ad",
   "metadata": {},
   "outputs": [],
   "source": [
    "y = np.array([100, -4, 101, 13, 8, 19])"
   ]
  },
  {
   "cell_type": "markdown",
   "id": "6481abfe",
   "metadata": {},
   "source": [
    "### Парные сортировки (тоже важно)"
   ]
  },
  {
   "cell_type": "code",
   "execution_count": 63,
   "id": "d5c4687a",
   "metadata": {},
   "outputs": [
    {
     "data": {
      "text/plain": [
       "array([1, 4, 3, 5, 0, 2])"
      ]
     },
     "execution_count": 63,
     "metadata": {},
     "output_type": "execute_result"
    }
   ],
   "source": [
    "# Отсюда можно делать крутые хаки:\n",
    "\n",
    "\n",
    "np.argsort(y) # Индексы в исходном массиве в порядке сортировки\n",
    "# То есть:\n",
    "# на 1ом индексе - самый маленький\n",
    "# на 4ом индексе - второй по меньшинству\n",
    "# на 3м индексе - третий ...\n",
    "# на 5м индексе - четвертый\n",
    "# на 0ом индексе - пятый ...\n",
    "# на 2ой позиции в исходном массиве - самый большой элемент"
   ]
  },
  {
   "cell_type": "code",
   "execution_count": 66,
   "id": "46f2c18a",
   "metadata": {},
   "outputs": [
    {
     "name": "stdout",
     "output_type": "stream",
     "text": [
      "-4\n",
      "8\n",
      "13\n",
      "19\n",
      "100\n",
      "101\n"
     ]
    }
   ],
   "source": [
    "print(y[1])\n",
    "print(y[4])\n",
    "print(y[3])\n",
    "print(y[5])\n",
    "print(y[0])\n",
    "print(y[2])\n",
    "\n",
    "# Вывели в отсортированном порядке"
   ]
  },
  {
   "cell_type": "code",
   "execution_count": 68,
   "id": "2a30ecb6",
   "metadata": {},
   "outputs": [
    {
     "name": "stdout",
     "output_type": "stream",
     "text": [
      "[1 4 3 5 0 2]\n",
      "---\n",
      "[ -4   8  13  19 100 101]\n"
     ]
    }
   ],
   "source": [
    "# А можно красиво в numpy-style сделать то же самое:\n",
    "\n",
    "\n",
    "sorted_idxs = np.argsort(y)\n",
    "print(sorted_idxs, end='\\n---\\n')\n",
    "\n",
    "print(y[sorted_idxs]) # Проиндексировали как уже умеем по отсортированным индексам и получили отсортированный массив"
   ]
  },
  {
   "cell_type": "code",
   "execution_count": 69,
   "id": "221f069a",
   "metadata": {},
   "outputs": [],
   "source": [
    "# Когда это полезно:\n",
    "\n",
    "\n",
    "costs = np.array([500, 4, 300, 2, 99, 100]) # Стоимости товаров\n",
    "products = np.array(['Milk', 'Molk', 'Bread', 'Bruuuh', 'TV', 'TOVU']) # Сами товары\n",
    "\n",
    "# Причем массивы созданы так, что\n",
    "# costs[i] - цена products[i]\n",
    "\n",
    "# Хотим: найти K товаров с самой высокой стоимостью"
   ]
  },
  {
   "cell_type": "code",
   "execution_count": 72,
   "id": "50067607",
   "metadata": {},
   "outputs": [
    {
     "name": "stdout",
     "output_type": "stream",
     "text": [
      "[2 0]\n",
      "---\n",
      "['Bread' 'Milk']\n"
     ]
    }
   ],
   "source": [
    "K = 2 # например 2 товара\n",
    "\n",
    "sorted_idxs = np.argsort(costs) # Получили отсортированные индексы цен\n",
    "print(sorted_idxs[-K:], end='\\n---\\n') # Вывели два последних индекса, они соответствуют самым большим стоимостям в costs\n",
    "# И они так же соответствуют, соответствующим товарам в products\n",
    "\n",
    "# А значит:\n",
    "print(products[sorted_idxs[-K:]]) # Два самых дорогих товара в порядке увеличения цены"
   ]
  },
  {
   "cell_type": "code",
   "execution_count": null,
   "id": "fc18f58a",
   "metadata": {},
   "outputs": [],
   "source": []
  }
 ],
 "metadata": {
  "kernelspec": {
   "display_name": "Python 3",
   "language": "python",
   "name": "python3"
  },
  "language_info": {
   "codemirror_mode": {
    "name": "ipython",
    "version": 3
   },
   "file_extension": ".py",
   "mimetype": "text/x-python",
   "name": "python",
   "nbconvert_exporter": "python",
   "pygments_lexer": "ipython3",
   "version": "3.8.8"
  }
 },
 "nbformat": 4,
 "nbformat_minor": 5
}
