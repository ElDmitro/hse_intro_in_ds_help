{
 "cells": [
  {
   "cell_type": "code",
   "execution_count": 2,
   "id": "422b58c4",
   "metadata": {},
   "outputs": [],
   "source": [
    "import numpy as np\n",
    "import pandas as pd"
   ]
  },
  {
   "cell_type": "markdown",
   "id": "6f10a896",
   "metadata": {},
   "source": [
    "---"
   ]
  },
  {
   "cell_type": "markdown",
   "id": "64271245",
   "metadata": {},
   "source": [
    "# Базовый Numpy"
   ]
  },
  {
   "cell_type": "markdown",
   "id": "b13e4b69",
   "metadata": {},
   "source": [
    "### Базовые операции"
   ]
  },
  {
   "cell_type": "code",
   "execution_count": 3,
   "id": "84ab3c18",
   "metadata": {},
   "outputs": [],
   "source": [
    "# В нампай и пандас работа ведется с векторами\n",
    "\n",
    "x = np.array([1, 2, 3, 4, 5])\n",
    "y = np.array([-2, 0, 10, 100, 4])"
   ]
  },
  {
   "cell_type": "code",
   "execution_count": 4,
   "id": "218ea391",
   "metadata": {},
   "outputs": [
    {
     "data": {
      "text/plain": [
       "array([ -1,   2,  13, 104,   9])"
      ]
     },
     "execution_count": 4,
     "metadata": {},
     "output_type": "execute_result"
    }
   ],
   "source": [
    "# Все операции поэлементные\n",
    "\n",
    "\n",
    "x + y"
   ]
  },
  {
   "cell_type": "code",
   "execution_count": 5,
   "id": "13e4c134",
   "metadata": {},
   "outputs": [
    {
     "data": {
      "text/plain": [
       "array([ -2,   0,  30, 400,  20])"
      ]
     },
     "execution_count": 5,
     "metadata": {},
     "output_type": "execute_result"
    }
   ],
   "source": [
    "x * y"
   ]
  },
  {
   "cell_type": "code",
   "execution_count": 6,
   "id": "61549961",
   "metadata": {},
   "outputs": [
    {
     "data": {
      "text/plain": [
       "array([  3,   2,  -7, -96,   1])"
      ]
     },
     "execution_count": 6,
     "metadata": {},
     "output_type": "execute_result"
    }
   ],
   "source": [
    "x - y"
   ]
  },
  {
   "cell_type": "code",
   "execution_count": 7,
   "id": "ac0c11ff",
   "metadata": {},
   "outputs": [
    {
     "data": {
      "text/plain": [
       "array([-2, -1,  0,  1,  2])"
      ]
     },
     "execution_count": 7,
     "metadata": {},
     "output_type": "execute_result"
    }
   ],
   "source": [
    "x - 3"
   ]
  },
  {
   "cell_type": "code",
   "execution_count": 8,
   "id": "d0cd2ba2",
   "metadata": {},
   "outputs": [
    {
     "data": {
      "text/plain": [
       "array([-2, -1,  0,  1,  2])"
      ]
     },
     "execution_count": 8,
     "metadata": {},
     "output_type": "execute_result"
    }
   ],
   "source": [
    "# Эквивалентно предыдущей записи\n",
    "# На самом деле, нампай, когда вы делаете операции\n",
    "# Numpy.Array и какая-то константа - numpy неявно приводит эту константу к массиву такой же размерности\n",
    "# Состоящим из этой константы:\n",
    "\n",
    "x - np.array([3] * x.size)"
   ]
  },
  {
   "cell_type": "markdown",
   "id": "8c15ec12",
   "metadata": {},
   "source": [
    "---"
   ]
  },
  {
   "cell_type": "markdown",
   "id": "dd3f4934",
   "metadata": {},
   "source": [
    "### Прикольные операции с матрицами:"
   ]
  },
  {
   "cell_type": "code",
   "execution_count": 9,
   "id": "55d902c8",
   "metadata": {},
   "outputs": [],
   "source": [
    "A = np.array([\n",
    "    [1, 2, 3, 4, 5],\n",
    "    [5, 6, 7, 8, 9],\n",
    "    [10, 11, 12, 13, 14],\n",
    "])"
   ]
  },
  {
   "cell_type": "code",
   "execution_count": 10,
   "id": "9ad72eeb",
   "metadata": {},
   "outputs": [
    {
     "data": {
      "text/plain": [
       "array([[ 1,  2,  3,  4,  5],\n",
       "       [ 5,  6,  7,  8,  9],\n",
       "       [10, 11, 12, 13, 14]])"
      ]
     },
     "execution_count": 10,
     "metadata": {},
     "output_type": "execute_result"
    }
   ],
   "source": [
    "A"
   ]
  },
  {
   "cell_type": "code",
   "execution_count": 11,
   "id": "268c4f0e",
   "metadata": {},
   "outputs": [
    {
     "data": {
      "text/plain": [
       "(3, 5)"
      ]
     },
     "execution_count": 11,
     "metadata": {},
     "output_type": "execute_result"
    }
   ],
   "source": [
    "A.shape # Размерность"
   ]
  },
  {
   "cell_type": "code",
   "execution_count": 12,
   "id": "9ddac3dd",
   "metadata": {},
   "outputs": [
    {
     "data": {
      "text/plain": [
       "array([ 1,  2,  3,  4,  5,  5,  6,  7,  8,  9, 10, 11, 12, 13, 14])"
      ]
     },
     "execution_count": 12,
     "metadata": {},
     "output_type": "execute_result"
    }
   ],
   "source": [
    "A.flatten() # равзернули матрицу в вектор"
   ]
  },
  {
   "cell_type": "code",
   "execution_count": 13,
   "id": "93404cf7",
   "metadata": {},
   "outputs": [
    {
     "data": {
      "text/plain": [
       "array([[ 2,  4,  6,  8, 10],\n",
       "       [10, 12, 14, 16, 18],\n",
       "       [20, 22, 24, 26, 28]])"
      ]
     },
     "execution_count": 13,
     "metadata": {},
     "output_type": "execute_result"
    }
   ],
   "source": [
    "# Матрицы тоже Numpy.Array и тоже поддерживают поэлементные векторные операции\n",
    "\n",
    "A + A"
   ]
  },
  {
   "cell_type": "code",
   "execution_count": 14,
   "id": "66be7a4b",
   "metadata": {},
   "outputs": [
    {
     "data": {
      "text/plain": [
       "array([[ 5, 10, 15, 20, 25],\n",
       "       [25, 30, 35, 40, 45],\n",
       "       [50, 55, 60, 65, 70]])"
      ]
     },
     "execution_count": 14,
     "metadata": {},
     "output_type": "execute_result"
    }
   ],
   "source": [
    "A * 5"
   ]
  },
  {
   "cell_type": "markdown",
   "id": "2163c817",
   "metadata": {},
   "source": [
    "---"
   ]
  },
  {
   "cell_type": "code",
   "execution_count": 15,
   "id": "07c09c3e",
   "metadata": {},
   "outputs": [
    {
     "data": {
      "text/plain": [
       "array([ 1,  6, 12])"
      ]
     },
     "execution_count": 15,
     "metadata": {},
     "output_type": "execute_result"
    }
   ],
   "source": [
    "A.diagonal(0) # Можно извлекать диагональ из матрицы"
   ]
  },
  {
   "cell_type": "code",
   "execution_count": 16,
   "id": "4a9f0c60",
   "metadata": {},
   "outputs": [
    {
     "data": {
      "text/plain": [
       "array([[ 1,  2,  3,  4,  5],\n",
       "       [ 5,  6,  7,  8,  9],\n",
       "       [10, 11, 12, 13, 14],\n",
       "       [11, 12, 13, 14, 15],\n",
       "       [15, 16, 17, 18, 19],\n",
       "       [20, 21, 22, 23, 24]])"
      ]
     },
     "execution_count": 16,
     "metadata": {},
     "output_type": "execute_result"
    }
   ],
   "source": [
    "# Можно матрицы склеивать по вертикали\n",
    "\n",
    "np.vstack((\n",
    "    A,\n",
    "    A + 10\n",
    "))"
   ]
  },
  {
   "cell_type": "code",
   "execution_count": 17,
   "id": "d792fe05",
   "metadata": {},
   "outputs": [
    {
     "data": {
      "text/plain": [
       "array([[ 1,  2,  3,  4,  5, 11, 12, 13, 14, 15],\n",
       "       [ 5,  6,  7,  8,  9, 15, 16, 17, 18, 19],\n",
       "       [10, 11, 12, 13, 14, 20, 21, 22, 23, 24]])"
      ]
     },
     "execution_count": 17,
     "metadata": {},
     "output_type": "execute_result"
    }
   ],
   "source": [
    "# Можно матрицы склеивать по горизонтали\n",
    "\n",
    "np.hstack((\n",
    "    A,\n",
    "    A + 10\n",
    "))"
   ]
  },
  {
   "cell_type": "markdown",
   "id": "0a06c450",
   "metadata": {},
   "source": [
    "---"
   ]
  },
  {
   "cell_type": "code",
   "execution_count": 18,
   "id": "df7bd041",
   "metadata": {},
   "outputs": [
    {
     "data": {
      "text/plain": [
       "array([[5.43e-323, 5.93e-323, 6.42e-323, 6.92e-323, 7.41e-323],\n",
       "       [7.41e-323, 7.91e-323, 8.40e-323, 8.89e-323, 9.39e-323],\n",
       "       [9.88e-323, 1.04e-322, 1.09e-322, 1.14e-322, 1.19e-322]])"
      ]
     },
     "execution_count": 18,
     "metadata": {},
     "output_type": "execute_result"
    }
   ],
   "source": [
    "# Создать матрицу определенной размерности из около-нулевых элементов\n",
    "\n",
    "\n",
    "tmp = np.empty(A.shape)\n",
    "tmp"
   ]
  },
  {
   "cell_type": "code",
   "execution_count": 19,
   "id": "1f456436",
   "metadata": {},
   "outputs": [],
   "source": [
    "# Заполнить всю матрицу каким-то значением\n",
    "\n",
    "tmp.fill(5)"
   ]
  },
  {
   "cell_type": "code",
   "execution_count": 20,
   "id": "235530e2",
   "metadata": {},
   "outputs": [
    {
     "data": {
      "text/plain": [
       "array([[5., 5., 5., 5., 5.],\n",
       "       [5., 5., 5., 5., 5.],\n",
       "       [5., 5., 5., 5., 5.]])"
      ]
     },
     "execution_count": 20,
     "metadata": {},
     "output_type": "execute_result"
    }
   ],
   "source": [
    "tmp"
   ]
  },
  {
   "cell_type": "markdown",
   "id": "67808870",
   "metadata": {},
   "source": [
    "### Broadcasting Numpy"
   ]
  },
  {
   "cell_type": "code",
   "execution_count": 21,
   "id": "44d0fec0",
   "metadata": {},
   "outputs": [
    {
     "data": {
      "text/plain": [
       "array([[ 1,  2,  3,  4,  5],\n",
       "       [ 5,  6,  7,  8,  9],\n",
       "       [10, 11, 12, 13, 14]])"
      ]
     },
     "execution_count": 21,
     "metadata": {},
     "output_type": "execute_result"
    }
   ],
   "source": [
    "A"
   ]
  },
  {
   "cell_type": "code",
   "execution_count": 22,
   "id": "d19eaba3",
   "metadata": {},
   "outputs": [
    {
     "name": "stdout",
     "output_type": "stream",
     "text": [
      "[[ 4.  5.  6.  7.  8.]\n",
      " [ 8.  9. 10. 11. 12.]\n",
      " [13. 14. 15. 16. 17.]]\n",
      "---\n",
      "[[ 4.  5.  6.  7.  8.]\n",
      " [ 8.  9. 10. 11. 12.]\n",
      " [13. 14. 15. 16. 17.]]\n",
      "---\n"
     ]
    }
   ],
   "source": [
    "# Две эквивалентные операции:\n",
    "\n",
    "\n",
    "print(\n",
    "    A + 3.0, # Вот тут неявно происходит тоже, что и ниже\n",
    "    end='\\n---\\n'\n",
    ")\n",
    "\n",
    "# ------\n",
    "tmp = np.empty(A.shape)\n",
    "tmp.fill(3.0)\n",
    "print(\n",
    "    A + tmp,\n",
    "    end='\\n---\\n'    \n",
    ")"
   ]
  },
  {
   "cell_type": "code",
   "execution_count": 23,
   "id": "a8004ddf",
   "metadata": {},
   "outputs": [
    {
     "name": "stdout",
     "output_type": "stream",
     "text": [
      "[3 3 3 4 4 4 5 5 5 6 6 6 7 7 7]\n",
      "---\n",
      "[[3 3 3]\n",
      " [4 4 4]\n",
      " [5 5 5]\n",
      " [6 6 6]\n",
      " [7 7 7]]\n",
      "---\n",
      "[[3 4 5 6 7]\n",
      " [3 4 5 6 7]\n",
      " [3 4 5 6 7]]\n",
      "---\n"
     ]
    }
   ],
   "source": [
    "x = np.array([3, 4, 5, 6, 7])\n",
    "print(np.repeat(x, 3), end='\\n---\\n') # Продублировали каждый элемент исходного массива 3 раза\n",
    "print(np.repeat(x, 3).reshape(5, 3), end='\\n---\\n') # Развернули в матрицу, так чтобы каждая колонка - дубль массива\n",
    "print(np.repeat(x, 3).reshape(5, 3).T, end='\\n---\\n') # транспонировали полученную матрицу\n",
    "\n",
    "# По факту получили матрицу из трех одинаковых строк исходного массива (broadcast на размерность (3, 5))"
   ]
  },
  {
   "cell_type": "code",
   "execution_count": 24,
   "id": "f91a4f08",
   "metadata": {},
   "outputs": [
    {
     "name": "stdout",
     "output_type": "stream",
     "text": [
      "[[ 1  2  3  4  5]\n",
      " [ 5  6  7  8  9]\n",
      " [10 11 12 13 14]]\n",
      "---\n",
      "[[ 4  6  8 10 12]\n",
      " [ 8 10 12 14 16]\n",
      " [13 15 17 19 21]]\n",
      "---\n",
      "[[ 4  6  8 10 12]\n",
      " [ 8 10 12 14 16]\n",
      " [13 15 17 19 21]]\n"
     ]
    }
   ],
   "source": [
    "# Аналогично бродкастятся и вектора к нужной размерности матрицы:\n",
    "\n",
    "print(A, end='\\n---\\n')\n",
    "\n",
    "\n",
    "print(\n",
    "    A + x,\n",
    "    end='\\n---\\n'\n",
    ")\n",
    "\n",
    "print(\n",
    "    A + np.repeat(x, 3).reshape(5, 3).T # Сами забродкастили массив и получили то же самое\n",
    ")"
   ]
  },
  {
   "cell_type": "code",
   "execution_count": 25,
   "id": "79306233",
   "metadata": {},
   "outputs": [],
   "source": [
    "# Это все важно понимать, чтобы знать, что происходит когда вы делаете простые операции с добавлением\n",
    "# констант к векторам/матрицам\n",
    "# векторов к матрицам и тп\n",
    "\n",
    "\n",
    "# Самим бродкастить - НЕ НУЖНО"
   ]
  },
  {
   "cell_type": "markdown",
   "id": "a2f1bb26",
   "metadata": {},
   "source": [
    "---"
   ]
  },
  {
   "cell_type": "markdown",
   "id": "ac4b00e3",
   "metadata": {},
   "source": [
    "### Индексация (очень важно)"
   ]
  },
  {
   "cell_type": "code",
   "execution_count": 26,
   "id": "b3020584",
   "metadata": {},
   "outputs": [
    {
     "data": {
      "text/plain": [
       "array([[ 1,  2,  3,  4,  5],\n",
       "       [ 5,  6,  7,  8,  9],\n",
       "       [10, 11, 12, 13, 14]])"
      ]
     },
     "execution_count": 26,
     "metadata": {},
     "output_type": "execute_result"
    }
   ],
   "source": [
    "A"
   ]
  },
  {
   "cell_type": "code",
   "execution_count": 27,
   "id": "cf02ef5d",
   "metadata": {},
   "outputs": [
    {
     "name": "stdout",
     "output_type": "stream",
     "text": [
      "[1 2 3 4 5]\n",
      "---\n",
      "[ 1  5 10]\n",
      "---\n",
      "[[1 2 3 4 5]\n",
      " [5 6 7 8 9]]\n",
      "---\n",
      "[[ 1  2]\n",
      " [ 5  6]\n",
      " [10 11]]\n",
      "---\n",
      "[[1 2]\n",
      " [5 6]]\n",
      "---\n"
     ]
    }
   ],
   "source": [
    "print(A[0], end='\\n---\\n') # Нулевая строчка\n",
    "print(A[:, 0], end='\\n---\\n') # Нулевая колонка\n",
    "print(A[:2], end='\\n---\\n') # Первые две строчки\n",
    "print(A[:, :2], end='\\n---\\n') # Первые две колонки\n",
    "print(A[:2, :2], end='\\n---\\n') # Левый-верхний угол (2х2) из 4х элементов"
   ]
  },
  {
   "cell_type": "markdown",
   "id": "674d530c",
   "metadata": {},
   "source": [
    "---"
   ]
  },
  {
   "cell_type": "code",
   "execution_count": 28,
   "id": "3be9441e",
   "metadata": {},
   "outputs": [
    {
     "data": {
      "text/plain": [
       "array([3, 4, 5, 6, 7])"
      ]
     },
     "execution_count": 28,
     "metadata": {},
     "output_type": "execute_result"
    }
   ],
   "source": [
    "x"
   ]
  },
  {
   "cell_type": "code",
   "execution_count": 29,
   "id": "f4b9fb94",
   "metadata": {},
   "outputs": [
    {
     "data": {
      "text/plain": [
       "array([3, 6, 7])"
      ]
     },
     "execution_count": 29,
     "metadata": {},
     "output_type": "execute_result"
    }
   ],
   "source": [
    "# Можно в качестве индексов передать список индексов\n",
    "# Результат - в порядке переданных индексов соответствующие индексам исходные значения\n",
    "\n",
    "x[[0, 3, 4]] # Нулевой, Третий и Четвертый элементы x в порядке следования"
   ]
  },
  {
   "cell_type": "code",
   "execution_count": 30,
   "id": "bc3d765b",
   "metadata": {},
   "outputs": [
    {
     "data": {
      "text/plain": [
       "array([3, 3, 3, 3, 3, 4, 7, 7, 3, 4, 5])"
      ]
     },
     "execution_count": 30,
     "metadata": {},
     "output_type": "execute_result"
    }
   ],
   "source": [
    "# Список индексов можно давать любого размера, произвольного характера\n",
    "\n",
    "\n",
    "x[[0, 0, 0, 0, 0, 1, 4, 4, 0, 1, 2]]"
   ]
  },
  {
   "cell_type": "code",
   "execution_count": 31,
   "id": "0ecdd0ad",
   "metadata": {},
   "outputs": [],
   "source": [
    "y = np.array([100, -4, 101, 13, 8, 19])"
   ]
  },
  {
   "cell_type": "markdown",
   "id": "6481abfe",
   "metadata": {},
   "source": [
    "### Парные сортировки (тоже важно)"
   ]
  },
  {
   "cell_type": "code",
   "execution_count": 32,
   "id": "d5c4687a",
   "metadata": {},
   "outputs": [
    {
     "data": {
      "text/plain": [
       "array([1, 4, 3, 5, 0, 2])"
      ]
     },
     "execution_count": 32,
     "metadata": {},
     "output_type": "execute_result"
    }
   ],
   "source": [
    "# Отсюда можно делать крутые хаки:\n",
    "\n",
    "\n",
    "np.argsort(y) # Индексы в исходном массиве в порядке сортировки\n",
    "# То есть:\n",
    "# на 1ом индексе - самый маленький\n",
    "# на 4ом индексе - второй по меньшинству\n",
    "# на 3м индексе - третий ...\n",
    "# на 5м индексе - четвертый\n",
    "# на 0ом индексе - пятый ...\n",
    "# на 2ой позиции в исходном массиве - самый большой элемент"
   ]
  },
  {
   "cell_type": "code",
   "execution_count": 33,
   "id": "46f2c18a",
   "metadata": {},
   "outputs": [
    {
     "name": "stdout",
     "output_type": "stream",
     "text": [
      "-4\n",
      "8\n",
      "13\n",
      "19\n",
      "100\n",
      "101\n"
     ]
    }
   ],
   "source": [
    "print(y[1])\n",
    "print(y[4])\n",
    "print(y[3])\n",
    "print(y[5])\n",
    "print(y[0])\n",
    "print(y[2])\n",
    "\n",
    "# Вывели в отсортированном порядке"
   ]
  },
  {
   "cell_type": "code",
   "execution_count": 34,
   "id": "2a30ecb6",
   "metadata": {},
   "outputs": [
    {
     "name": "stdout",
     "output_type": "stream",
     "text": [
      "[1 4 3 5 0 2]\n",
      "---\n",
      "[ -4   8  13  19 100 101]\n"
     ]
    }
   ],
   "source": [
    "# А можно красиво в numpy-style сделать то же самое:\n",
    "\n",
    "\n",
    "sorted_idxs = np.argsort(y)\n",
    "print(sorted_idxs, end='\\n---\\n')\n",
    "\n",
    "print(y[sorted_idxs]) # Проиндексировали как уже умеем по отсортированным индексам и получили отсортированный массив"
   ]
  },
  {
   "cell_type": "code",
   "execution_count": 35,
   "id": "221f069a",
   "metadata": {},
   "outputs": [],
   "source": [
    "# Когда это полезно:\n",
    "\n",
    "\n",
    "costs = np.array([500, 4, 300, 2, 99, 100]) # Стоимости товаров\n",
    "products = np.array(['Milk', 'Molk', 'Bread', 'Bruuuh', 'TV', 'TOVU']) # Сами товары\n",
    "\n",
    "# Причем массивы созданы так, что\n",
    "# costs[i] - цена products[i]\n",
    "\n",
    "# Хотим: найти K товаров с самой высокой стоимостью"
   ]
  },
  {
   "cell_type": "code",
   "execution_count": 36,
   "id": "50067607",
   "metadata": {},
   "outputs": [
    {
     "name": "stdout",
     "output_type": "stream",
     "text": [
      "[2 0]\n",
      "---\n",
      "['Bread' 'Milk']\n"
     ]
    }
   ],
   "source": [
    "K = 2 # например 2 товара\n",
    "\n",
    "sorted_idxs = np.argsort(costs) # Получили отсортированные индексы цен\n",
    "print(sorted_idxs[-K:], end='\\n---\\n') # Вывели два последних индекса, они соответствуют самым большим стоимостям в costs\n",
    "# И они так же соответствуют, соответствующим товарам в products\n",
    "\n",
    "# А значит:\n",
    "print(products[sorted_idxs[-K:]]) # Два самых дорогих товара в порядке увеличения цены"
   ]
  },
  {
   "cell_type": "markdown",
   "id": "89fb2f94",
   "metadata": {},
   "source": [
    "# Маскирование (ультра-важно)"
   ]
  },
  {
   "cell_type": "code",
   "execution_count": 38,
   "id": "dd52b6eb",
   "metadata": {},
   "outputs": [
    {
     "data": {
      "text/plain": [
       "array([3, 4, 5, 6, 7])"
      ]
     },
     "execution_count": 38,
     "metadata": {},
     "output_type": "execute_result"
    }
   ],
   "source": [
    "x"
   ]
  },
  {
   "cell_type": "code",
   "execution_count": 40,
   "id": "f0e3d729",
   "metadata": {},
   "outputs": [
    {
     "data": {
      "text/plain": [
       "array([False, False,  True, False, False])"
      ]
     },
     "execution_count": 40,
     "metadata": {},
     "output_type": "execute_result"
    }
   ],
   "source": [
    "x == 5 # Получили новый массив, элементы которого - это значения True/False (Равна чиселка 5 или нет)\n",
    "\n",
    "\n",
    "# Обратим внимание, что тут по факту произошел broadcasting 5ки в вектор из пятерок той же размерности\n",
    "# После чего произошло поэлементное сравнение x и [5, 5, 5, 5, 5]\n",
    "# В результате чего получили такой массив:"
   ]
  },
  {
   "cell_type": "code",
   "execution_count": 42,
   "id": "ee029294",
   "metadata": {},
   "outputs": [
    {
     "name": "stdout",
     "output_type": "stream",
     "text": [
      "[3 4 5 6 7]\n",
      "---\n",
      "[5]\n",
      "---\n",
      "[3 5 6]\n"
     ]
    }
   ],
   "source": [
    "# И теперь ультра трюк \n",
    "# Такие массивы из True/False (такой же размерности как и исходный массив)\n",
    "# Будем называть МАСКАМИ\n",
    "\n",
    "# Масками можно индексировать (как индексами исходный массив)\n",
    "\n",
    "print(x, end='\\n---\\n')\n",
    "print(x[x == 5], end='\\n---\\n') # Только те значения x, которые == 5\n",
    "print(x[[True, False, True, True, False]]) # Только те значения x, на позиция которых в маске стоит True"
   ]
  },
  {
   "cell_type": "code",
   "execution_count": 43,
   "id": "f69a51e5",
   "metadata": {},
   "outputs": [],
   "source": [
    "# Зачем это нужно?\n",
    "\n",
    "costs = np.array([500, 4, 300, 2, 99, 100]) # Стоимости товаров\n",
    "products = np.array(['Milk', 'Molk', 'Bread', 'Bruuuh', 'TV', 'TOVU']) # Сами товары\n",
    "\n",
    "# Причем массивы созданы так, что\n",
    "# costs[i] - цена products[i]\n",
    "\n",
    "# Хотим: найти все товары стоимости более 10"
   ]
  },
  {
   "cell_type": "code",
   "execution_count": 46,
   "id": "8c8bb773",
   "metadata": {},
   "outputs": [
    {
     "name": "stdout",
     "output_type": "stream",
     "text": [
      "[ True False  True False  True  True]\n",
      "---\n",
      "['Milk' 'Bread' 'TV' 'TOVU']\n",
      "---\n",
      "[500 300  99 100]\n"
     ]
    }
   ],
   "source": [
    "mask = costs > 10 # Маска для costs, где True там, где цена на позиции больше 10\n",
    "print(mask, end='\\n---\\n')\n",
    "\n",
    "print(products[mask], end='\\n---\\n') # И на самом деле из-за соответствия позиций costs и products\n",
    "# mask - тоже маска для products. Причем мы буквально выведем именно те продукты, у которых соответствующий cost \n",
    "# больше 10\n",
    "\n",
    "print(costs[mask]) # для само-проверки"
   ]
  },
  {
   "cell_type": "markdown",
   "id": "de767f78",
   "metadata": {},
   "source": [
    "# Базовый Pandas"
   ]
  },
  {
   "cell_type": "code",
   "execution_count": 47,
   "id": "4cdc9645",
   "metadata": {},
   "outputs": [],
   "source": [
    "# К счастью для нас Pandas безумно похож на Numpy\n",
    "# И нового особо изучать не придется\n",
    "\n",
    "# Просто немного нужно адаптироваться с синтаксисом"
   ]
  },
  {
   "cell_type": "code",
   "execution_count": 48,
   "id": "a8ddb67c",
   "metadata": {},
   "outputs": [
    {
     "data": {
      "text/plain": [
       "array([[ 1,  2,  3,  4,  5],\n",
       "       [ 5,  6,  7,  8,  9],\n",
       "       [10, 11, 12, 13, 14]])"
      ]
     },
     "execution_count": 48,
     "metadata": {},
     "output_type": "execute_result"
    }
   ],
   "source": [
    "A"
   ]
  },
  {
   "cell_type": "code",
   "execution_count": 50,
   "id": "58233135",
   "metadata": {},
   "outputs": [],
   "source": [
    "# Теперь обзовем наши колонки именами:\n",
    "\n",
    "\n",
    "df_A = pd.DataFrame(data=A, columns=['a', 'b', 'c', 'd', 'e'])"
   ]
  },
  {
   "cell_type": "code",
   "execution_count": 51,
   "id": "0fcc80a0",
   "metadata": {},
   "outputs": [
    {
     "data": {
      "text/html": [
       "<div>\n",
       "<style scoped>\n",
       "    .dataframe tbody tr th:only-of-type {\n",
       "        vertical-align: middle;\n",
       "    }\n",
       "\n",
       "    .dataframe tbody tr th {\n",
       "        vertical-align: top;\n",
       "    }\n",
       "\n",
       "    .dataframe thead th {\n",
       "        text-align: right;\n",
       "    }\n",
       "</style>\n",
       "<table border=\"1\" class=\"dataframe\">\n",
       "  <thead>\n",
       "    <tr style=\"text-align: right;\">\n",
       "      <th></th>\n",
       "      <th>a</th>\n",
       "      <th>b</th>\n",
       "      <th>c</th>\n",
       "      <th>d</th>\n",
       "      <th>e</th>\n",
       "    </tr>\n",
       "  </thead>\n",
       "  <tbody>\n",
       "    <tr>\n",
       "      <th>0</th>\n",
       "      <td>1</td>\n",
       "      <td>2</td>\n",
       "      <td>3</td>\n",
       "      <td>4</td>\n",
       "      <td>5</td>\n",
       "    </tr>\n",
       "    <tr>\n",
       "      <th>1</th>\n",
       "      <td>5</td>\n",
       "      <td>6</td>\n",
       "      <td>7</td>\n",
       "      <td>8</td>\n",
       "      <td>9</td>\n",
       "    </tr>\n",
       "    <tr>\n",
       "      <th>2</th>\n",
       "      <td>10</td>\n",
       "      <td>11</td>\n",
       "      <td>12</td>\n",
       "      <td>13</td>\n",
       "      <td>14</td>\n",
       "    </tr>\n",
       "  </tbody>\n",
       "</table>\n",
       "</div>"
      ],
      "text/plain": [
       "    a   b   c   d   e\n",
       "0   1   2   3   4   5\n",
       "1   5   6   7   8   9\n",
       "2  10  11  12  13  14"
      ]
     },
     "execution_count": 51,
     "metadata": {},
     "output_type": "execute_result"
    }
   ],
   "source": [
    "df_A"
   ]
  },
  {
   "cell_type": "code",
   "execution_count": 52,
   "id": "9c4c9873",
   "metadata": {},
   "outputs": [
    {
     "data": {
      "text/html": [
       "<div>\n",
       "<style scoped>\n",
       "    .dataframe tbody tr th:only-of-type {\n",
       "        vertical-align: middle;\n",
       "    }\n",
       "\n",
       "    .dataframe tbody tr th {\n",
       "        vertical-align: top;\n",
       "    }\n",
       "\n",
       "    .dataframe thead th {\n",
       "        text-align: right;\n",
       "    }\n",
       "</style>\n",
       "<table border=\"1\" class=\"dataframe\">\n",
       "  <thead>\n",
       "    <tr style=\"text-align: right;\">\n",
       "      <th></th>\n",
       "      <th>a</th>\n",
       "      <th>b</th>\n",
       "      <th>c</th>\n",
       "      <th>d</th>\n",
       "      <th>e</th>\n",
       "    </tr>\n",
       "  </thead>\n",
       "  <tbody>\n",
       "    <tr>\n",
       "      <th>0</th>\n",
       "      <td>4</td>\n",
       "      <td>5</td>\n",
       "      <td>6</td>\n",
       "      <td>7</td>\n",
       "      <td>8</td>\n",
       "    </tr>\n",
       "    <tr>\n",
       "      <th>1</th>\n",
       "      <td>8</td>\n",
       "      <td>9</td>\n",
       "      <td>10</td>\n",
       "      <td>11</td>\n",
       "      <td>12</td>\n",
       "    </tr>\n",
       "    <tr>\n",
       "      <th>2</th>\n",
       "      <td>13</td>\n",
       "      <td>14</td>\n",
       "      <td>15</td>\n",
       "      <td>16</td>\n",
       "      <td>17</td>\n",
       "    </tr>\n",
       "  </tbody>\n",
       "</table>\n",
       "</div>"
      ],
      "text/plain": [
       "    a   b   c   d   e\n",
       "0   4   5   6   7   8\n",
       "1   8   9  10  11  12\n",
       "2  13  14  15  16  17"
      ]
     },
     "execution_count": 52,
     "metadata": {},
     "output_type": "execute_result"
    }
   ],
   "source": [
    "# Продолжают работать абсолютно те же базовые операции, как и раньше:\n",
    "\n",
    "df_A + 3"
   ]
  },
  {
   "cell_type": "code",
   "execution_count": 54,
   "id": "5a7fb538",
   "metadata": {},
   "outputs": [
    {
     "data": {
      "text/html": [
       "<div>\n",
       "<style scoped>\n",
       "    .dataframe tbody tr th:only-of-type {\n",
       "        vertical-align: middle;\n",
       "    }\n",
       "\n",
       "    .dataframe tbody tr th {\n",
       "        vertical-align: top;\n",
       "    }\n",
       "\n",
       "    .dataframe thead th {\n",
       "        text-align: right;\n",
       "    }\n",
       "</style>\n",
       "<table border=\"1\" class=\"dataframe\">\n",
       "  <thead>\n",
       "    <tr style=\"text-align: right;\">\n",
       "      <th></th>\n",
       "      <th>a</th>\n",
       "      <th>b</th>\n",
       "      <th>c</th>\n",
       "      <th>d</th>\n",
       "      <th>e</th>\n",
       "    </tr>\n",
       "  </thead>\n",
       "  <tbody>\n",
       "    <tr>\n",
       "      <th>0</th>\n",
       "      <td>10</td>\n",
       "      <td>20</td>\n",
       "      <td>30</td>\n",
       "      <td>40</td>\n",
       "      <td>50</td>\n",
       "    </tr>\n",
       "    <tr>\n",
       "      <th>1</th>\n",
       "      <td>50</td>\n",
       "      <td>60</td>\n",
       "      <td>70</td>\n",
       "      <td>80</td>\n",
       "      <td>90</td>\n",
       "    </tr>\n",
       "    <tr>\n",
       "      <th>2</th>\n",
       "      <td>100</td>\n",
       "      <td>110</td>\n",
       "      <td>120</td>\n",
       "      <td>130</td>\n",
       "      <td>140</td>\n",
       "    </tr>\n",
       "  </tbody>\n",
       "</table>\n",
       "</div>"
      ],
      "text/plain": [
       "     a    b    c    d    e\n",
       "0   10   20   30   40   50\n",
       "1   50   60   70   80   90\n",
       "2  100  110  120  130  140"
      ]
     },
     "execution_count": 54,
     "metadata": {},
     "output_type": "execute_result"
    }
   ],
   "source": [
    "df_A * 10"
   ]
  },
  {
   "cell_type": "code",
   "execution_count": 55,
   "id": "b7d7e304",
   "metadata": {},
   "outputs": [
    {
     "data": {
      "text/html": [
       "<div>\n",
       "<style scoped>\n",
       "    .dataframe tbody tr th:only-of-type {\n",
       "        vertical-align: middle;\n",
       "    }\n",
       "\n",
       "    .dataframe tbody tr th {\n",
       "        vertical-align: top;\n",
       "    }\n",
       "\n",
       "    .dataframe thead th {\n",
       "        text-align: right;\n",
       "    }\n",
       "</style>\n",
       "<table border=\"1\" class=\"dataframe\">\n",
       "  <thead>\n",
       "    <tr style=\"text-align: right;\">\n",
       "      <th></th>\n",
       "      <th>a</th>\n",
       "      <th>b</th>\n",
       "      <th>c</th>\n",
       "      <th>d</th>\n",
       "      <th>e</th>\n",
       "    </tr>\n",
       "  </thead>\n",
       "  <tbody>\n",
       "    <tr>\n",
       "      <th>0</th>\n",
       "      <td>2</td>\n",
       "      <td>4</td>\n",
       "      <td>6</td>\n",
       "      <td>8</td>\n",
       "      <td>10</td>\n",
       "    </tr>\n",
       "    <tr>\n",
       "      <th>1</th>\n",
       "      <td>10</td>\n",
       "      <td>12</td>\n",
       "      <td>14</td>\n",
       "      <td>16</td>\n",
       "      <td>18</td>\n",
       "    </tr>\n",
       "    <tr>\n",
       "      <th>2</th>\n",
       "      <td>20</td>\n",
       "      <td>22</td>\n",
       "      <td>24</td>\n",
       "      <td>26</td>\n",
       "      <td>28</td>\n",
       "    </tr>\n",
       "  </tbody>\n",
       "</table>\n",
       "</div>"
      ],
      "text/plain": [
       "    a   b   c   d   e\n",
       "0   2   4   6   8  10\n",
       "1  10  12  14  16  18\n",
       "2  20  22  24  26  28"
      ]
     },
     "execution_count": 55,
     "metadata": {},
     "output_type": "execute_result"
    }
   ],
   "source": [
    "df_A + df_A"
   ]
  },
  {
   "cell_type": "code",
   "execution_count": 56,
   "id": "3be0cb75",
   "metadata": {},
   "outputs": [
    {
     "data": {
      "text/plain": [
       "0     1\n",
       "1     5\n",
       "2    10\n",
       "Name: a, dtype: int64"
      ]
     },
     "execution_count": 56,
     "metadata": {},
     "output_type": "execute_result"
    }
   ],
   "source": [
    "# Более того, можно откусывать отдельную колонку и работать с ней как с вектором:\n",
    "\n",
    "\n",
    "df_A['a'] # Получился новый объект pandas.Series  (по факту это именнованный numpy-вектор, который мы видели до этого)"
   ]
  },
  {
   "cell_type": "code",
   "execution_count": 58,
   "id": "1b64aebd",
   "metadata": {},
   "outputs": [
    {
     "data": {
      "text/plain": [
       "0    101\n",
       "1    105\n",
       "2    110\n",
       "Name: a, dtype: int64"
      ]
     },
     "execution_count": 58,
     "metadata": {},
     "output_type": "execute_result"
    }
   ],
   "source": [
    "# С ними так же можно работать:\n",
    "\n",
    "df_A['a'] + 100"
   ]
  },
  {
   "cell_type": "code",
   "execution_count": 59,
   "id": "9f93ab40",
   "metadata": {},
   "outputs": [
    {
     "data": {
      "text/plain": [
       "0     3\n",
       "1    11\n",
       "2    21\n",
       "dtype: int64"
      ]
     },
     "execution_count": 59,
     "metadata": {},
     "output_type": "execute_result"
    }
   ],
   "source": [
    "df_A['a'] + df_A['b'] # даже две колонки можно сложить"
   ]
  },
  {
   "cell_type": "markdown",
   "id": "de4742ae",
   "metadata": {},
   "source": [
    "---"
   ]
  },
  {
   "cell_type": "markdown",
   "id": "f0df6877",
   "metadata": {},
   "source": [
    "### Датафреймы тоже можно склеивать"
   ]
  },
  {
   "cell_type": "code",
   "execution_count": 61,
   "id": "f8c29ebf",
   "metadata": {},
   "outputs": [
    {
     "data": {
      "text/html": [
       "<div>\n",
       "<style scoped>\n",
       "    .dataframe tbody tr th:only-of-type {\n",
       "        vertical-align: middle;\n",
       "    }\n",
       "\n",
       "    .dataframe tbody tr th {\n",
       "        vertical-align: top;\n",
       "    }\n",
       "\n",
       "    .dataframe thead th {\n",
       "        text-align: right;\n",
       "    }\n",
       "</style>\n",
       "<table border=\"1\" class=\"dataframe\">\n",
       "  <thead>\n",
       "    <tr style=\"text-align: right;\">\n",
       "      <th></th>\n",
       "      <th>a</th>\n",
       "      <th>b</th>\n",
       "      <th>c</th>\n",
       "      <th>d</th>\n",
       "      <th>e</th>\n",
       "    </tr>\n",
       "  </thead>\n",
       "  <tbody>\n",
       "    <tr>\n",
       "      <th>0</th>\n",
       "      <td>1</td>\n",
       "      <td>2</td>\n",
       "      <td>3</td>\n",
       "      <td>4</td>\n",
       "      <td>5</td>\n",
       "    </tr>\n",
       "    <tr>\n",
       "      <th>1</th>\n",
       "      <td>5</td>\n",
       "      <td>6</td>\n",
       "      <td>7</td>\n",
       "      <td>8</td>\n",
       "      <td>9</td>\n",
       "    </tr>\n",
       "    <tr>\n",
       "      <th>2</th>\n",
       "      <td>10</td>\n",
       "      <td>11</td>\n",
       "      <td>12</td>\n",
       "      <td>13</td>\n",
       "      <td>14</td>\n",
       "    </tr>\n",
       "  </tbody>\n",
       "</table>\n",
       "</div>"
      ],
      "text/plain": [
       "    a   b   c   d   e\n",
       "0   1   2   3   4   5\n",
       "1   5   6   7   8   9\n",
       "2  10  11  12  13  14"
      ]
     },
     "execution_count": 61,
     "metadata": {},
     "output_type": "execute_result"
    }
   ],
   "source": [
    "df_A"
   ]
  },
  {
   "cell_type": "code",
   "execution_count": 62,
   "id": "cb56be7d",
   "metadata": {},
   "outputs": [
    {
     "data": {
      "text/html": [
       "<div>\n",
       "<style scoped>\n",
       "    .dataframe tbody tr th:only-of-type {\n",
       "        vertical-align: middle;\n",
       "    }\n",
       "\n",
       "    .dataframe tbody tr th {\n",
       "        vertical-align: top;\n",
       "    }\n",
       "\n",
       "    .dataframe thead th {\n",
       "        text-align: right;\n",
       "    }\n",
       "</style>\n",
       "<table border=\"1\" class=\"dataframe\">\n",
       "  <thead>\n",
       "    <tr style=\"text-align: right;\">\n",
       "      <th></th>\n",
       "      <th>a</th>\n",
       "      <th>b</th>\n",
       "      <th>c</th>\n",
       "      <th>d</th>\n",
       "      <th>e</th>\n",
       "    </tr>\n",
       "  </thead>\n",
       "  <tbody>\n",
       "    <tr>\n",
       "      <th>0</th>\n",
       "      <td>1</td>\n",
       "      <td>2</td>\n",
       "      <td>3</td>\n",
       "      <td>4</td>\n",
       "      <td>5</td>\n",
       "    </tr>\n",
       "    <tr>\n",
       "      <th>1</th>\n",
       "      <td>5</td>\n",
       "      <td>6</td>\n",
       "      <td>7</td>\n",
       "      <td>8</td>\n",
       "      <td>9</td>\n",
       "    </tr>\n",
       "    <tr>\n",
       "      <th>2</th>\n",
       "      <td>10</td>\n",
       "      <td>11</td>\n",
       "      <td>12</td>\n",
       "      <td>13</td>\n",
       "      <td>14</td>\n",
       "    </tr>\n",
       "    <tr>\n",
       "      <th>0</th>\n",
       "      <td>11</td>\n",
       "      <td>12</td>\n",
       "      <td>13</td>\n",
       "      <td>14</td>\n",
       "      <td>15</td>\n",
       "    </tr>\n",
       "    <tr>\n",
       "      <th>1</th>\n",
       "      <td>15</td>\n",
       "      <td>16</td>\n",
       "      <td>17</td>\n",
       "      <td>18</td>\n",
       "      <td>19</td>\n",
       "    </tr>\n",
       "    <tr>\n",
       "      <th>2</th>\n",
       "      <td>20</td>\n",
       "      <td>21</td>\n",
       "      <td>22</td>\n",
       "      <td>23</td>\n",
       "      <td>24</td>\n",
       "    </tr>\n",
       "  </tbody>\n",
       "</table>\n",
       "</div>"
      ],
      "text/plain": [
       "    a   b   c   d   e\n",
       "0   1   2   3   4   5\n",
       "1   5   6   7   8   9\n",
       "2  10  11  12  13  14\n",
       "0  11  12  13  14  15\n",
       "1  15  16  17  18  19\n",
       "2  20  21  22  23  24"
      ]
     },
     "execution_count": 62,
     "metadata": {},
     "output_type": "execute_result"
    }
   ],
   "source": [
    "# Склеили по вертикали\n",
    "\n",
    "pd.concat(\n",
    "    (df_A, df_A + 10)\n",
    ")"
   ]
  },
  {
   "cell_type": "code",
   "execution_count": 64,
   "id": "dee5616e",
   "metadata": {},
   "outputs": [
    {
     "data": {
      "text/html": [
       "<div>\n",
       "<style scoped>\n",
       "    .dataframe tbody tr th:only-of-type {\n",
       "        vertical-align: middle;\n",
       "    }\n",
       "\n",
       "    .dataframe tbody tr th {\n",
       "        vertical-align: top;\n",
       "    }\n",
       "\n",
       "    .dataframe thead th {\n",
       "        text-align: right;\n",
       "    }\n",
       "</style>\n",
       "<table border=\"1\" class=\"dataframe\">\n",
       "  <thead>\n",
       "    <tr style=\"text-align: right;\">\n",
       "      <th></th>\n",
       "      <th>a</th>\n",
       "      <th>b</th>\n",
       "      <th>c</th>\n",
       "      <th>d</th>\n",
       "      <th>e</th>\n",
       "      <th>a</th>\n",
       "      <th>b</th>\n",
       "      <th>c</th>\n",
       "      <th>d</th>\n",
       "      <th>e</th>\n",
       "    </tr>\n",
       "  </thead>\n",
       "  <tbody>\n",
       "    <tr>\n",
       "      <th>0</th>\n",
       "      <td>1</td>\n",
       "      <td>2</td>\n",
       "      <td>3</td>\n",
       "      <td>4</td>\n",
       "      <td>5</td>\n",
       "      <td>11</td>\n",
       "      <td>12</td>\n",
       "      <td>13</td>\n",
       "      <td>14</td>\n",
       "      <td>15</td>\n",
       "    </tr>\n",
       "    <tr>\n",
       "      <th>1</th>\n",
       "      <td>5</td>\n",
       "      <td>6</td>\n",
       "      <td>7</td>\n",
       "      <td>8</td>\n",
       "      <td>9</td>\n",
       "      <td>15</td>\n",
       "      <td>16</td>\n",
       "      <td>17</td>\n",
       "      <td>18</td>\n",
       "      <td>19</td>\n",
       "    </tr>\n",
       "    <tr>\n",
       "      <th>2</th>\n",
       "      <td>10</td>\n",
       "      <td>11</td>\n",
       "      <td>12</td>\n",
       "      <td>13</td>\n",
       "      <td>14</td>\n",
       "      <td>20</td>\n",
       "      <td>21</td>\n",
       "      <td>22</td>\n",
       "      <td>23</td>\n",
       "      <td>24</td>\n",
       "    </tr>\n",
       "  </tbody>\n",
       "</table>\n",
       "</div>"
      ],
      "text/plain": [
       "    a   b   c   d   e   a   b   c   d   e\n",
       "0   1   2   3   4   5  11  12  13  14  15\n",
       "1   5   6   7   8   9  15  16  17  18  19\n",
       "2  10  11  12  13  14  20  21  22  23  24"
      ]
     },
     "execution_count": 64,
     "metadata": {},
     "output_type": "execute_result"
    }
   ],
   "source": [
    "# Склеили по горизонтали\n",
    "\n",
    "pd.concat(\n",
    "    (df_A, df_A + 10),\n",
    "    axis=1\n",
    ")\n",
    "# Заметим, что в этом случае колонки продублировались\n",
    "# Лучше не клеить датасеты с одинаковыми колонками\n",
    "# Лучше пользоваться методом Join"
   ]
  },
  {
   "cell_type": "markdown",
   "id": "9713c4d6",
   "metadata": {},
   "source": [
    "### Broadcasting абсолютно аналогично работает и в пандасе"
   ]
  },
  {
   "cell_type": "markdown",
   "id": "b720e4dc",
   "metadata": {},
   "source": [
    "---"
   ]
  },
  {
   "cell_type": "markdown",
   "id": "2607ad2e",
   "metadata": {},
   "source": [
    "### Индексация в Pandas"
   ]
  },
  {
   "cell_type": "code",
   "execution_count": 69,
   "id": "cc651f2c",
   "metadata": {},
   "outputs": [
    {
     "name": "stdout",
     "output_type": "stream",
     "text": [
      "0     1\n",
      "1     5\n",
      "2    10\n",
      "Name: a, dtype: int64\n",
      "---\n",
      "    a   d\n",
      "0   1   4\n",
      "1   5   8\n",
      "2  10  13\n",
      "---\n"
     ]
    }
   ],
   "source": [
    "print(df_A['a'], end='\\n---\\n') # Колонка а\n",
    "print(df_A[['a', 'd']], end='\\n---\\n') # Колонки a и d"
   ]
  },
  {
   "cell_type": "code",
   "execution_count": 70,
   "id": "a0b52bf7",
   "metadata": {},
   "outputs": [
    {
     "data": {
      "text/html": [
       "<div>\n",
       "<style scoped>\n",
       "    .dataframe tbody tr th:only-of-type {\n",
       "        vertical-align: middle;\n",
       "    }\n",
       "\n",
       "    .dataframe tbody tr th {\n",
       "        vertical-align: top;\n",
       "    }\n",
       "\n",
       "    .dataframe thead th {\n",
       "        text-align: right;\n",
       "    }\n",
       "</style>\n",
       "<table border=\"1\" class=\"dataframe\">\n",
       "  <thead>\n",
       "    <tr style=\"text-align: right;\">\n",
       "      <th></th>\n",
       "      <th>a</th>\n",
       "      <th>b</th>\n",
       "      <th>c</th>\n",
       "      <th>d</th>\n",
       "      <th>e</th>\n",
       "    </tr>\n",
       "  </thead>\n",
       "  <tbody>\n",
       "    <tr>\n",
       "      <th>0</th>\n",
       "      <td>1</td>\n",
       "      <td>2</td>\n",
       "      <td>3</td>\n",
       "      <td>4</td>\n",
       "      <td>5</td>\n",
       "    </tr>\n",
       "    <tr>\n",
       "      <th>2</th>\n",
       "      <td>10</td>\n",
       "      <td>11</td>\n",
       "      <td>12</td>\n",
       "      <td>13</td>\n",
       "      <td>14</td>\n",
       "    </tr>\n",
       "  </tbody>\n",
       "</table>\n",
       "</div>"
      ],
      "text/plain": [
       "    a   b   c   d   e\n",
       "0   1   2   3   4   5\n",
       "2  10  11  12  13  14"
      ]
     },
     "execution_count": 70,
     "metadata": {},
     "output_type": "execute_result"
    }
   ],
   "source": [
    "# Если хотим проиндексировать строк:\n",
    "\n",
    "# Новый оператор для индексации: .loc\n",
    "\n",
    "df_A.loc[[0, 2]] # Строки с индексами 0 и 2"
   ]
  },
  {
   "cell_type": "code",
   "execution_count": 71,
   "id": "a8685b74",
   "metadata": {},
   "outputs": [
    {
     "data": {
      "text/plain": [
       "a    5\n",
       "b    6\n",
       "c    7\n",
       "d    8\n",
       "e    9\n",
       "Name: 1, dtype: int64"
      ]
     },
     "execution_count": 71,
     "metadata": {},
     "output_type": "execute_result"
    }
   ],
   "source": [
    "# Если хотим просто строку 1:\n",
    "\n",
    "df_A.loc[1]"
   ]
  },
  {
   "cell_type": "code",
   "execution_count": 73,
   "id": "8a5a2140",
   "metadata": {},
   "outputs": [
    {
     "data": {
      "text/html": [
       "<div>\n",
       "<style scoped>\n",
       "    .dataframe tbody tr th:only-of-type {\n",
       "        vertical-align: middle;\n",
       "    }\n",
       "\n",
       "    .dataframe tbody tr th {\n",
       "        vertical-align: top;\n",
       "    }\n",
       "\n",
       "    .dataframe thead th {\n",
       "        text-align: right;\n",
       "    }\n",
       "</style>\n",
       "<table border=\"1\" class=\"dataframe\">\n",
       "  <thead>\n",
       "    <tr style=\"text-align: right;\">\n",
       "      <th></th>\n",
       "      <th>a</th>\n",
       "      <th>b</th>\n",
       "      <th>c</th>\n",
       "      <th>d</th>\n",
       "      <th>e</th>\n",
       "    </tr>\n",
       "  </thead>\n",
       "  <tbody>\n",
       "    <tr>\n",
       "      <th>0</th>\n",
       "      <td>1</td>\n",
       "      <td>2</td>\n",
       "      <td>3</td>\n",
       "      <td>4</td>\n",
       "      <td>5</td>\n",
       "    </tr>\n",
       "    <tr>\n",
       "      <th>1</th>\n",
       "      <td>5</td>\n",
       "      <td>6</td>\n",
       "      <td>7</td>\n",
       "      <td>8</td>\n",
       "      <td>9</td>\n",
       "    </tr>\n",
       "  </tbody>\n",
       "</table>\n",
       "</div>"
      ],
      "text/plain": [
       "   a  b  c  d  e\n",
       "0  1  2  3  4  5\n",
       "1  5  6  7  8  9"
      ]
     },
     "execution_count": 73,
     "metadata": {},
     "output_type": "execute_result"
    }
   ],
   "source": [
    "# Можно даже так:\n",
    "\n",
    "df_A.loc[:1]"
   ]
  },
  {
   "cell_type": "code",
   "execution_count": 74,
   "id": "d269f66d",
   "metadata": {},
   "outputs": [
    {
     "data": {
      "text/html": [
       "<div>\n",
       "<style scoped>\n",
       "    .dataframe tbody tr th:only-of-type {\n",
       "        vertical-align: middle;\n",
       "    }\n",
       "\n",
       "    .dataframe tbody tr th {\n",
       "        vertical-align: top;\n",
       "    }\n",
       "\n",
       "    .dataframe thead th {\n",
       "        text-align: right;\n",
       "    }\n",
       "</style>\n",
       "<table border=\"1\" class=\"dataframe\">\n",
       "  <thead>\n",
       "    <tr style=\"text-align: right;\">\n",
       "      <th></th>\n",
       "      <th>a</th>\n",
       "      <th>e</th>\n",
       "    </tr>\n",
       "  </thead>\n",
       "  <tbody>\n",
       "    <tr>\n",
       "      <th>0</th>\n",
       "      <td>1</td>\n",
       "      <td>5</td>\n",
       "    </tr>\n",
       "    <tr>\n",
       "      <th>2</th>\n",
       "      <td>10</td>\n",
       "      <td>14</td>\n",
       "    </tr>\n",
       "  </tbody>\n",
       "</table>\n",
       "</div>"
      ],
      "text/plain": [
       "    a   e\n",
       "0   1   5\n",
       "2  10  14"
      ]
     },
     "execution_count": 74,
     "metadata": {},
     "output_type": "execute_result"
    }
   ],
   "source": [
    "# Можно даже одновременно и колонки и строки отобрать:\n",
    "\n",
    "\n",
    "df_A.loc[[0, 2], ['a', 'e']] # Колонки a и е для строк 0 и 2"
   ]
  },
  {
   "cell_type": "markdown",
   "id": "9ee35441",
   "metadata": {},
   "source": [
    "## Индексная колонка в Pandas"
   ]
  },
  {
   "cell_type": "code",
   "execution_count": 76,
   "id": "bbc32780",
   "metadata": {},
   "outputs": [
    {
     "data": {
      "text/html": [
       "<div>\n",
       "<style scoped>\n",
       "    .dataframe tbody tr th:only-of-type {\n",
       "        vertical-align: middle;\n",
       "    }\n",
       "\n",
       "    .dataframe tbody tr th {\n",
       "        vertical-align: top;\n",
       "    }\n",
       "\n",
       "    .dataframe thead th {\n",
       "        text-align: right;\n",
       "    }\n",
       "</style>\n",
       "<table border=\"1\" class=\"dataframe\">\n",
       "  <thead>\n",
       "    <tr style=\"text-align: right;\">\n",
       "      <th></th>\n",
       "      <th>a</th>\n",
       "      <th>b</th>\n",
       "      <th>c</th>\n",
       "      <th>d</th>\n",
       "      <th>e</th>\n",
       "    </tr>\n",
       "  </thead>\n",
       "  <tbody>\n",
       "    <tr>\n",
       "      <th>0</th>\n",
       "      <td>1</td>\n",
       "      <td>2</td>\n",
       "      <td>3</td>\n",
       "      <td>4</td>\n",
       "      <td>5</td>\n",
       "    </tr>\n",
       "    <tr>\n",
       "      <th>1</th>\n",
       "      <td>5</td>\n",
       "      <td>6</td>\n",
       "      <td>7</td>\n",
       "      <td>8</td>\n",
       "      <td>9</td>\n",
       "    </tr>\n",
       "    <tr>\n",
       "      <th>2</th>\n",
       "      <td>10</td>\n",
       "      <td>11</td>\n",
       "      <td>12</td>\n",
       "      <td>13</td>\n",
       "      <td>14</td>\n",
       "    </tr>\n",
       "  </tbody>\n",
       "</table>\n",
       "</div>"
      ],
      "text/plain": [
       "    a   b   c   d   e\n",
       "0   1   2   3   4   5\n",
       "1   5   6   7   8   9\n",
       "2  10  11  12  13  14"
      ]
     },
     "execution_count": 76,
     "metadata": {},
     "output_type": "execute_result"
    }
   ],
   "source": [
    "df_A"
   ]
  },
  {
   "cell_type": "code",
   "execution_count": 79,
   "id": "852945cb",
   "metadata": {},
   "outputs": [
    {
     "data": {
      "text/plain": [
       "array([0, 1, 2])"
      ]
     },
     "execution_count": 79,
     "metadata": {},
     "output_type": "execute_result"
    }
   ],
   "source": [
    "# В самом левом крае датафрейма видим неименованную колонку (из 0, 1, 2)\n",
    "# Это особая индексная колонка без имени\n",
    "\n",
    "# Ее можно вывести особым образом:\n",
    "\n",
    "df_A.index.values # Значения индексной колонки"
   ]
  },
  {
   "cell_type": "code",
   "execution_count": 80,
   "id": "7babf1f2",
   "metadata": {},
   "outputs": [],
   "source": [
    "# Индексы в датафрейме можно переопределить абсолютно любым образом\n",
    "\n",
    "df_A.index = [10, 20, 30]"
   ]
  },
  {
   "cell_type": "code",
   "execution_count": 81,
   "id": "17acc32a",
   "metadata": {},
   "outputs": [
    {
     "data": {
      "text/html": [
       "<div>\n",
       "<style scoped>\n",
       "    .dataframe tbody tr th:only-of-type {\n",
       "        vertical-align: middle;\n",
       "    }\n",
       "\n",
       "    .dataframe tbody tr th {\n",
       "        vertical-align: top;\n",
       "    }\n",
       "\n",
       "    .dataframe thead th {\n",
       "        text-align: right;\n",
       "    }\n",
       "</style>\n",
       "<table border=\"1\" class=\"dataframe\">\n",
       "  <thead>\n",
       "    <tr style=\"text-align: right;\">\n",
       "      <th></th>\n",
       "      <th>a</th>\n",
       "      <th>b</th>\n",
       "      <th>c</th>\n",
       "      <th>d</th>\n",
       "      <th>e</th>\n",
       "    </tr>\n",
       "  </thead>\n",
       "  <tbody>\n",
       "    <tr>\n",
       "      <th>10</th>\n",
       "      <td>1</td>\n",
       "      <td>2</td>\n",
       "      <td>3</td>\n",
       "      <td>4</td>\n",
       "      <td>5</td>\n",
       "    </tr>\n",
       "    <tr>\n",
       "      <th>20</th>\n",
       "      <td>5</td>\n",
       "      <td>6</td>\n",
       "      <td>7</td>\n",
       "      <td>8</td>\n",
       "      <td>9</td>\n",
       "    </tr>\n",
       "    <tr>\n",
       "      <th>30</th>\n",
       "      <td>10</td>\n",
       "      <td>11</td>\n",
       "      <td>12</td>\n",
       "      <td>13</td>\n",
       "      <td>14</td>\n",
       "    </tr>\n",
       "  </tbody>\n",
       "</table>\n",
       "</div>"
      ],
      "text/plain": [
       "     a   b   c   d   e\n",
       "10   1   2   3   4   5\n",
       "20   5   6   7   8   9\n",
       "30  10  11  12  13  14"
      ]
     },
     "execution_count": 81,
     "metadata": {},
     "output_type": "execute_result"
    }
   ],
   "source": [
    "df_A"
   ]
  },
  {
   "cell_type": "code",
   "execution_count": 83,
   "id": "d2dc2a3f",
   "metadata": {},
   "outputs": [
    {
     "data": {
      "text/html": [
       "<div>\n",
       "<style scoped>\n",
       "    .dataframe tbody tr th:only-of-type {\n",
       "        vertical-align: middle;\n",
       "    }\n",
       "\n",
       "    .dataframe tbody tr th {\n",
       "        vertical-align: top;\n",
       "    }\n",
       "\n",
       "    .dataframe thead th {\n",
       "        text-align: right;\n",
       "    }\n",
       "</style>\n",
       "<table border=\"1\" class=\"dataframe\">\n",
       "  <thead>\n",
       "    <tr style=\"text-align: right;\">\n",
       "      <th></th>\n",
       "      <th>a</th>\n",
       "      <th>b</th>\n",
       "      <th>c</th>\n",
       "      <th>d</th>\n",
       "      <th>e</th>\n",
       "    </tr>\n",
       "  </thead>\n",
       "  <tbody>\n",
       "    <tr>\n",
       "      <th>10</th>\n",
       "      <td>1</td>\n",
       "      <td>2</td>\n",
       "      <td>3</td>\n",
       "      <td>4</td>\n",
       "      <td>5</td>\n",
       "    </tr>\n",
       "    <tr>\n",
       "      <th>30</th>\n",
       "      <td>10</td>\n",
       "      <td>11</td>\n",
       "      <td>12</td>\n",
       "      <td>13</td>\n",
       "      <td>14</td>\n",
       "    </tr>\n",
       "  </tbody>\n",
       "</table>\n",
       "</div>"
      ],
      "text/plain": [
       "     a   b   c   d   e\n",
       "10   1   2   3   4   5\n",
       "30  10  11  12  13  14"
      ]
     },
     "execution_count": 83,
     "metadata": {},
     "output_type": "execute_result"
    }
   ],
   "source": [
    "# Теперь нужно будет индексироваться по новым индексам, будьте внимательны!!!\n",
    "\n",
    "\n",
    "df_A.loc[[10, 30]] # Не, 0 и 2"
   ]
  },
  {
   "cell_type": "code",
   "execution_count": 86,
   "id": "da374a96",
   "metadata": {},
   "outputs": [
    {
     "data": {
      "text/html": [
       "<div>\n",
       "<style scoped>\n",
       "    .dataframe tbody tr th:only-of-type {\n",
       "        vertical-align: middle;\n",
       "    }\n",
       "\n",
       "    .dataframe tbody tr th {\n",
       "        vertical-align: top;\n",
       "    }\n",
       "\n",
       "    .dataframe thead th {\n",
       "        text-align: right;\n",
       "    }\n",
       "</style>\n",
       "<table border=\"1\" class=\"dataframe\">\n",
       "  <thead>\n",
       "    <tr style=\"text-align: right;\">\n",
       "      <th></th>\n",
       "      <th>a</th>\n",
       "      <th>b</th>\n",
       "      <th>c</th>\n",
       "      <th>d</th>\n",
       "      <th>e</th>\n",
       "    </tr>\n",
       "  </thead>\n",
       "  <tbody>\n",
       "    <tr>\n",
       "      <th>10</th>\n",
       "      <td>1</td>\n",
       "      <td>2</td>\n",
       "      <td>3</td>\n",
       "      <td>4</td>\n",
       "      <td>5</td>\n",
       "    </tr>\n",
       "    <tr>\n",
       "      <th>30</th>\n",
       "      <td>10</td>\n",
       "      <td>11</td>\n",
       "      <td>12</td>\n",
       "      <td>13</td>\n",
       "      <td>14</td>\n",
       "    </tr>\n",
       "  </tbody>\n",
       "</table>\n",
       "</div>"
      ],
      "text/plain": [
       "     a   b   c   d   e\n",
       "10   1   2   3   4   5\n",
       "30  10  11  12  13  14"
      ]
     },
     "execution_count": 86,
     "metadata": {},
     "output_type": "execute_result"
    }
   ],
   "source": [
    "# Если хотим 0ую и 2ую строки по порядку, то пользуемся еще одной индексацией:\n",
    "\n",
    "# .iloc[]\n",
    "\n",
    "\n",
    "df_A.iloc[[0, 2]] # Вывела 0ую и 2ую строки по порядку"
   ]
  },
  {
   "cell_type": "code",
   "execution_count": 87,
   "id": "bb7b17e1",
   "metadata": {},
   "outputs": [
    {
     "data": {
      "text/html": [
       "<div>\n",
       "<style scoped>\n",
       "    .dataframe tbody tr th:only-of-type {\n",
       "        vertical-align: middle;\n",
       "    }\n",
       "\n",
       "    .dataframe tbody tr th {\n",
       "        vertical-align: top;\n",
       "    }\n",
       "\n",
       "    .dataframe thead th {\n",
       "        text-align: right;\n",
       "    }\n",
       "</style>\n",
       "<table border=\"1\" class=\"dataframe\">\n",
       "  <thead>\n",
       "    <tr style=\"text-align: right;\">\n",
       "      <th></th>\n",
       "      <th>a</th>\n",
       "      <th>b</th>\n",
       "      <th>c</th>\n",
       "      <th>d</th>\n",
       "      <th>e</th>\n",
       "    </tr>\n",
       "  </thead>\n",
       "  <tbody>\n",
       "    <tr>\n",
       "      <th>first</th>\n",
       "      <td>1</td>\n",
       "      <td>2</td>\n",
       "      <td>3</td>\n",
       "      <td>4</td>\n",
       "      <td>5</td>\n",
       "    </tr>\n",
       "    <tr>\n",
       "      <th>second</th>\n",
       "      <td>5</td>\n",
       "      <td>6</td>\n",
       "      <td>7</td>\n",
       "      <td>8</td>\n",
       "      <td>9</td>\n",
       "    </tr>\n",
       "    <tr>\n",
       "      <th>third</th>\n",
       "      <td>10</td>\n",
       "      <td>11</td>\n",
       "      <td>12</td>\n",
       "      <td>13</td>\n",
       "      <td>14</td>\n",
       "    </tr>\n",
       "  </tbody>\n",
       "</table>\n",
       "</div>"
      ],
      "text/plain": [
       "         a   b   c   d   e\n",
       "first    1   2   3   4   5\n",
       "second   5   6   7   8   9\n",
       "third   10  11  12  13  14"
      ]
     },
     "execution_count": 87,
     "metadata": {},
     "output_type": "execute_result"
    }
   ],
   "source": [
    "# Индексы можно даже строками сделать:\n",
    "\n",
    "\n",
    "df_A.index = ['first', 'second', 'third']\n",
    "df_A"
   ]
  },
  {
   "cell_type": "code",
   "execution_count": 89,
   "id": "ecbfc9a9",
   "metadata": {},
   "outputs": [
    {
     "data": {
      "text/html": [
       "<div>\n",
       "<style scoped>\n",
       "    .dataframe tbody tr th:only-of-type {\n",
       "        vertical-align: middle;\n",
       "    }\n",
       "\n",
       "    .dataframe tbody tr th {\n",
       "        vertical-align: top;\n",
       "    }\n",
       "\n",
       "    .dataframe thead th {\n",
       "        text-align: right;\n",
       "    }\n",
       "</style>\n",
       "<table border=\"1\" class=\"dataframe\">\n",
       "  <thead>\n",
       "    <tr style=\"text-align: right;\">\n",
       "      <th></th>\n",
       "      <th>a</th>\n",
       "      <th>b</th>\n",
       "      <th>c</th>\n",
       "      <th>d</th>\n",
       "      <th>e</th>\n",
       "    </tr>\n",
       "  </thead>\n",
       "  <tbody>\n",
       "    <tr>\n",
       "      <th>first</th>\n",
       "      <td>1</td>\n",
       "      <td>2</td>\n",
       "      <td>3</td>\n",
       "      <td>4</td>\n",
       "      <td>5</td>\n",
       "    </tr>\n",
       "    <tr>\n",
       "      <th>third</th>\n",
       "      <td>10</td>\n",
       "      <td>11</td>\n",
       "      <td>12</td>\n",
       "      <td>13</td>\n",
       "      <td>14</td>\n",
       "    </tr>\n",
       "  </tbody>\n",
       "</table>\n",
       "</div>"
      ],
      "text/plain": [
       "        a   b   c   d   e\n",
       "first   1   2   3   4   5\n",
       "third  10  11  12  13  14"
      ]
     },
     "execution_count": 89,
     "metadata": {},
     "output_type": "execute_result"
    }
   ],
   "source": [
    "# И соответственно по таким индексам обращаться:\n",
    "\n",
    "\n",
    "df_A.loc[['first', 'third']] # Это не колонки! Это именно индексы"
   ]
  },
  {
   "cell_type": "code",
   "execution_count": 91,
   "id": "bcf6cfe5",
   "metadata": {},
   "outputs": [
    {
     "data": {
      "text/html": [
       "<div>\n",
       "<style scoped>\n",
       "    .dataframe tbody tr th:only-of-type {\n",
       "        vertical-align: middle;\n",
       "    }\n",
       "\n",
       "    .dataframe tbody tr th {\n",
       "        vertical-align: top;\n",
       "    }\n",
       "\n",
       "    .dataframe thead th {\n",
       "        text-align: right;\n",
       "    }\n",
       "</style>\n",
       "<table border=\"1\" class=\"dataframe\">\n",
       "  <thead>\n",
       "    <tr style=\"text-align: right;\">\n",
       "      <th></th>\n",
       "      <th>c</th>\n",
       "      <th>e</th>\n",
       "    </tr>\n",
       "  </thead>\n",
       "  <tbody>\n",
       "    <tr>\n",
       "      <th>first</th>\n",
       "      <td>3</td>\n",
       "      <td>5</td>\n",
       "    </tr>\n",
       "    <tr>\n",
       "      <th>second</th>\n",
       "      <td>7</td>\n",
       "      <td>9</td>\n",
       "    </tr>\n",
       "  </tbody>\n",
       "</table>\n",
       "</div>"
      ],
      "text/plain": [
       "        c  e\n",
       "first   3  5\n",
       "second  7  9"
      ]
     },
     "execution_count": 91,
     "metadata": {},
     "output_type": "execute_result"
    }
   ],
   "source": [
    "# Пушто вот можем еще и по колонкам отобрать:\n",
    "\n",
    "df_A.loc[['first', 'second'], ['c', 'e']] # c и е колонки для строк с индексами first, second"
   ]
  },
  {
   "cell_type": "markdown",
   "id": "13163210",
   "metadata": {},
   "source": [
    "### Маскирование в Pandas (крайне-важно!)"
   ]
  },
  {
   "cell_type": "code",
   "execution_count": null,
   "id": "aeddb03b",
   "metadata": {},
   "outputs": [],
   "source": []
  }
 ],
 "metadata": {
  "kernelspec": {
   "display_name": "Python 3",
   "language": "python",
   "name": "python3"
  },
  "language_info": {
   "codemirror_mode": {
    "name": "ipython",
    "version": 3
   },
   "file_extension": ".py",
   "mimetype": "text/x-python",
   "name": "python",
   "nbconvert_exporter": "python",
   "pygments_lexer": "ipython3",
   "version": "3.8.8"
  }
 },
 "nbformat": 4,
 "nbformat_minor": 5
}
